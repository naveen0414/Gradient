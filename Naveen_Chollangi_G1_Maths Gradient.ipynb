{
 "cells": [
  {
   "cell_type": "code",
   "execution_count": null,
   "id": "feb71bd0",
   "metadata": {},
   "outputs": [],
   "source": [
    "#- asks the user to enter the coordinates x and y of a point in R²\n",
    "#- calculates the gradient of the function f(x,y) = x²y - xy² at this point\n",
    "#- handles the case where the user writes non numerical values\n",
    "def partialdiff(): \n",
    "    refBool = True\n",
    "    while refBool:\n",
    "        try:\n",
    "            a=input(\"Enter the x coordinate\") #takes x-coordinate from user\n",
    "            print(a)\n",
    "            b=input(\"Enter the y coordinate\") #takes y-coordinate from user\n",
    "            print(b)\n",
    "            x=int(a)\n",
    "            y=int(b)\n",
    "            c=(x,y)\n",
    "            gradx = (2*x*y)-(y**2) #calculates partial gradient of the function f(x,y) = x²y - xy² at this point w.r.t x\n",
    "            grady = (x**2)-(2*x*y) #calculates partial gradient of the function f(x,y) = x²y - xy² at this point w.r.t y\n",
    "            print(\"Gradient of (x^2)y-(y^2)x at {0} is \".format(c), (gradx,grady))\n",
    "            refBool = False\n",
    "        except:\n",
    "            print(\"Kindly input proper input values\")\n",
    "            \n",
    "    return"
   ]
  },
  {
   "cell_type": "code",
   "execution_count": null,
   "id": "6c53cacf",
   "metadata": {},
   "outputs": [],
   "source": [
    "partialdiff()"
   ]
  },
  {
   "cell_type": "code",
   "execution_count": null,
   "id": "2b66d0ae",
   "metadata": {},
   "outputs": [],
   "source": [
    "#using gradient function \n",
    "import numdifftools as nd \n",
    "\n",
    "def grad(x): \n",
    "    return (x[0]**2)*(x[1]) - (x[1]**2)*(x[0])\n",
    "\n",
    "a=input(\"Enter the x coordinate\")\n",
    "print(a)\n",
    "b=input(\"Enter the y coordinate\")\n",
    "print(b)\n",
    "\n",
    "try:\n",
    "    x=[int(a),int(b)]\n",
    "    g = nd.Gradient(grad)(x)\n",
    "    print(\"Gradient of (x^2)y-(y^2)x at {0} is \".format(x), g)\n",
    "except:\n",
    "    print(\"Kindly input proper input values\")\n"
   ]
  },
  {
   "cell_type": "code",
   "execution_count": null,
   "id": "7a438e1b",
   "metadata": {},
   "outputs": [],
   "source": []
  }
 ],
 "metadata": {
  "kernelspec": {
   "display_name": "Python 3",
   "language": "python",
   "name": "python3"
  },
  "language_info": {
   "codemirror_mode": {
    "name": "ipython",
    "version": 3
   },
   "file_extension": ".py",
   "mimetype": "text/x-python",
   "name": "python",
   "nbconvert_exporter": "python",
   "pygments_lexer": "ipython3",
   "version": "3.8.8"
  }
 },
 "nbformat": 4,
 "nbformat_minor": 5
}
